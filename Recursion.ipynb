{
 "cells": [
  {
   "cell_type": "markdown",
   "metadata": {},
   "source": [
    "These give the same result!"
   ]
  },
  {
   "cell_type": "code",
   "execution_count": null,
   "metadata": {},
   "outputs": [],
   "source": [
    "def writeNumbers1( aNumber ):\n",
    "    print(aNumber)\n",
    "    if  aNumber > 0:\n",
    "        writeNumbers( aNumber - 1 )\n",
    "    else:\n",
    "        return \n",
    "    # this None tells us to pop of the current stack frame and return to the previous stack frame\n",
    "    return None \n",
    "\n",
    "print(writeNumbers1(8))"
   ]
  },
  {
   "cell_type": "code",
   "execution_count": null,
   "metadata": {},
   "outputs": [],
   "source": [
    "def writeNumbers( aNumber ):\n",
    "    print(aNumber)\n",
    "    if  aNumber > 0:\n",
    "        print('iter aNumber: ', aNumber, locals())\n",
    "        # doesn't matter that we assigned to res as the results is unused\n",
    "        res = writeNumbers( aNumber - 1 ) \n",
    "        print('after iter: ', aNumber, res)\n",
    "    else:\n",
    "        return \n",
    "\n",
    "print(writeNumbers(8))\n",
    "\n"
   ]
  },
  {
   "cell_type": "code",
   "execution_count": 2,
   "metadata": {},
   "outputs": [
    {
     "name": "stdout",
     "output_type": "stream",
     "text": [
      "40320\n"
     ]
    }
   ],
   "source": [
    "def fib( aNumber ):\n",
    "    \n",
    "    if  aNumber == 0:\n",
    "        return 1\n",
    "    else:\n",
    "        # we care about the return here because we want \n",
    "        # this value at the very end! \n",
    "        return aNumber * fib(aNumber - 1) \n",
    "\n",
    "print(fib(8))\n",
    "\n"
   ]
  }
 ],
 "metadata": {
  "interpreter": {
   "hash": "c7bf5bc57a86c6f8f0cee2fa29f1a36f9feace20e4e3ef85a8786deeadebd2ff"
  },
  "kernelspec": {
   "display_name": "Python 3.8.5 ('base')",
   "language": "python",
   "name": "python3"
  },
  "language_info": {
   "codemirror_mode": {
    "name": "ipython",
    "version": 3
   },
   "file_extension": ".py",
   "mimetype": "text/x-python",
   "name": "python",
   "nbconvert_exporter": "python",
   "pygments_lexer": "ipython3",
   "version": "3.8.5"
  },
  "orig_nbformat": 4
 },
 "nbformat": 4,
 "nbformat_minor": 2
}
