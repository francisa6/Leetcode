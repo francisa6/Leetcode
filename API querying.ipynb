{
 "cells": [
  {
   "cell_type": "code",
   "execution_count": 18,
   "metadata": {},
   "outputs": [
    {
     "ename": "ImportError",
     "evalue": "cannot import name 'lstrip' from 'datetime' (C:\\Python\\Python39\\lib\\datetime.py)",
     "output_type": "error",
     "traceback": [
      "\u001b[1;31m---------------------------------------------------------------------------\u001b[0m",
      "\u001b[1;31mImportError\u001b[0m                               Traceback (most recent call last)",
      "\u001b[1;32m~\\AppData\\Local\\Temp/ipykernel_31432/1684621707.py\u001b[0m in \u001b[0;36m<module>\u001b[1;34m\u001b[0m\n\u001b[0;32m      1\u001b[0m \u001b[1;32mfrom\u001b[0m \u001b[0murllib\u001b[0m\u001b[1;33m.\u001b[0m\u001b[0mrequest\u001b[0m \u001b[1;32mimport\u001b[0m \u001b[0murlopen\u001b[0m\u001b[1;33m\u001b[0m\u001b[1;33m\u001b[0m\u001b[0m\n\u001b[0;32m      2\u001b[0m \u001b[1;32mimport\u001b[0m \u001b[0mjson\u001b[0m\u001b[1;33m\u001b[0m\u001b[1;33m\u001b[0m\u001b[0m\n\u001b[1;32m----> 3\u001b[1;33m \u001b[1;32mfrom\u001b[0m \u001b[0mdatetime\u001b[0m \u001b[1;32mimport\u001b[0m \u001b[0mdatetime\u001b[0m\u001b[1;33m,\u001b[0m \u001b[0mlstrip\u001b[0m\u001b[1;33m\u001b[0m\u001b[1;33m\u001b[0m\u001b[0m\n\u001b[0m\u001b[0;32m      4\u001b[0m \u001b[1;33m\u001b[0m\u001b[0m\n\u001b[0;32m      5\u001b[0m \u001b[1;33m\u001b[0m\u001b[0m\n",
      "\u001b[1;31mImportError\u001b[0m: cannot import name 'lstrip' from 'datetime' (C:\\Python\\Python39\\lib\\datetime.py)"
     ]
    }
   ],
   "source": [
    "from urllib.request import urlopen\n",
    "import json\n",
    "from datetime import datetime\n",
    "\n",
    "\n",
    "selected_date = \"1-January-2000\"\n",
    "pageNumber = \"1\"\n",
    "\n",
    "# f = urlopen(f'https://jsonmock.hackerrank.com/api/stocks/search?date={selected_date}&page={pageNumber}')\n",
    "f = urlopen(f'https://jsonmock.hackerrank.com/api/stocks/search?date={selected_date}')\n",
    "print(json.load(f))\n",
    "\n",
    "# OR better way is\n",
    "def queryPageRaw(selected_date):\n",
    "    with urlopen(f'https://jsonmock.hackerrank.com/api/stocks/search?date={selected_date}') as f:\n",
    "        return json.load(f)\n",
    "\n"
   ]
  },
  {
   "cell_type": "code",
   "execution_count": 50,
   "metadata": {},
   "outputs": [],
   "source": [
    "startdate =\"1-January-2000\"\n",
    "enddate =\"11-January-2000\"\n",
    "\n",
    "def queryDay(date):\n",
    "    # pageNumber = 1\n",
    "    res_dict = queryPageRaw(date)\n",
    "    print(res_dict)\n",
    "    for entry in res_dict['data']:\n",
    "        print(entry['date'], ' ', entry['open'], ' ', entry['close'])\n",
    "\n",
    "def parseDate(s):\n",
    "    return datetime.strptime(s, '%d-%B-%Y').date()\n",
    "\n",
    "firstdate = parseDate(startdate)\n",
    "lastdate = parseDate(enddate)\n",
    "\n",
    "\n",
    "from datetime import timedelta\n",
    "def daterange(firstdate, lastdate):\n",
    "    for n in range((lastdate-firstdate).days):\n",
    "        yield firstdate + timedelta(n)\n",
    "\n",
    "for d in daterange(firstdate, lastdate):\n",
    "    # print(type(d))\n",
    "    print(str(d))\n",
    "    queryDay(d)"
   ]
  },
  {
   "cell_type": "code",
   "execution_count": 26,
   "metadata": {},
   "outputs": [
    {
     "name": "stdout",
     "output_type": "stream",
     "text": [
      "11-January-2000     5513.04     5296.3\n",
      "21-January-2000     5352.63     5423.05\n",
      "31-January-2000     5338.67     5205.29\n",
      "13-January-2000     5568.64     5444.82\n",
      "14-January-2000     5460.31     5471.27\n",
      "5-January-2000     5265.09     5357\n",
      "6-January-2000     5424.21     5421.53\n",
      "7-January-2000     5358.28     5414.48\n",
      "17-January-2000     5617.7     5404.07\n",
      "27-January-2000     5424.14     5369.1\n",
      "28-January-2000     5417.53     5335.8\n"
     ]
    }
   ],
   "source": [
    "\n",
    "from urllib.request import urlopen\n",
    "import json\n",
    "from datetime import datetime, timedelta\n",
    "\n",
    "startdate =\"1-January-2000\"\n",
    "enddate =\"11-January-2000\"\n",
    "\n",
    "\n",
    "def queryPageRaw(selected_date):\n",
    "    with urlopen(f'https://jsonmock.hackerrank.com/api/stocks/search?date={selected_date}') as f:\n",
    "        return json.load(f)\n",
    "\n",
    "def queryDay(date):\n",
    "    # pageNumber = 1\n",
    "    res_dict = queryPageRaw(date)\n",
    "    # print(res_dict)\n",
    "    for entry in res_dict['data']:\n",
    "        print(entry['date'], '   ', entry['open'], '   ', entry['close'])\n",
    "\n",
    "def parseDate(s):\n",
    "    return datetime.strptime(s, '%d-%B-%Y').date()\n",
    "\n",
    "def parseString(s):\n",
    "    return s.strftime('%d-%B-%Y').lstrip('0')\n",
    "\n",
    "def daterange(firstdate, lastdate):\n",
    "    \"\"\"\n",
    "    If i wrote (lastdate-firstdate).days + 1 this would include 11 Jan 2000\n",
    "    and that would yield a duplicate! So we should exclude it because it\n",
    "    is already included in 1 Jan 2000 search\n",
    "    \"\"\"\n",
    "    for n in range((lastdate-firstdate).days):\n",
    "        yield firstdate + timedelta(n)\n",
    "\n",
    "\n",
    "\n",
    "firstdate = parseDate(startdate)\n",
    "lastdate = parseDate(enddate)\n",
    "\n",
    "for d in daterange(firstdate, lastdate):\n",
    "    # print(type(d))\n",
    "    # print(parseString(d))\n",
    "    # print(str(d))\n",
    "    if firstdate <= d <= lastdate:\n",
    "        queryDay(parseString(d))\n",
    "\n",
    "# print(str(firstdate))\n",
    "# # queryPageRaw(str(firstdate))\n",
    "# # queryPageRaw(str(startdate))\n",
    "# print(startdate)"
   ]
  },
  {
   "cell_type": "code",
   "execution_count": 32,
   "metadata": {},
   "outputs": [
    {
     "data": {
      "text/plain": [
       "float"
      ]
     },
     "execution_count": 32,
     "metadata": {},
     "output_type": "execute_result"
    }
   ],
   "source": [
    "def func(): \n",
    "    with urlopen(f'https://jsonmock.hackerrank.com/api/stocks/search?day=\"1-January-2000') as f:\n",
    "        return json.load(f)\n",
    "\n",
    "f = func()\n",
    "type(f['data'][0]['open'])"
   ]
  }
 ],
 "metadata": {
  "interpreter": {
   "hash": "ee5cc6fef2d70a7e71ee3826687cbd150f18158e0b1eef11d4f4f92bb920e304"
  },
  "kernelspec": {
   "display_name": "Python 3.9.8 64-bit",
   "language": "python",
   "name": "python3"
  },
  "language_info": {
   "codemirror_mode": {
    "name": "ipython",
    "version": 3
   },
   "file_extension": ".py",
   "mimetype": "text/x-python",
   "name": "python",
   "nbconvert_exporter": "python",
   "pygments_lexer": "ipython3",
   "version": "3.9.8"
  },
  "orig_nbformat": 4
 },
 "nbformat": 4,
 "nbformat_minor": 2
}
